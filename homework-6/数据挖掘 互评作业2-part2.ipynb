{
 "cells": [
  {
   "cell_type": "markdown",
   "metadata": {},
   "source": [
    "# 数据挖掘 互评作业2 -part2\n",
    "\n",
    "> GitHub Address: [part2](https://github.com/Nonsensersunny/bit-data-mining/blob/master/homework-6/%E6%95%B0%E6%8D%AE%E6%8C%96%E6%8E%98%20%E4%BA%92%E8%AF%84%E4%BD%9C%E4%B8%9A2-part2.ipynb)\n",
    "\n",
    "> 选取的数据集为 [Wine Reviews](https://www.kaggle.com/zynicide/wine-reviews)\n",
    "\n",
    "\n",
    "## 1. 数据预处理"
   ]
  },
  {
   "cell_type": "code",
   "execution_count": 52,
   "metadata": {},
   "outputs": [],
   "source": [
    "# 导入依赖\n",
    "import numpy as np\n",
    "import pandas as pd\n",
    "import matplotlib.pyplot as plt\n",
    "import seaborn as sns\n",
    "from math import ceil\n",
    "import csv\n",
    "import itertools\n",
    "\n",
    "# 变量声明\n",
    "data = dict()\n",
    "\n",
    "country = dict()\n",
    "designation = dict()\n",
    "points = dict()\n",
    "price = dict()\n",
    "province = dict()\n",
    "variety = dict()\n",
    "winery = dict()\n",
    "\n",
    "# 导入数据集\n",
    "with open('wine-reviews/winemag-data-130k-v2.csv', 'r') as f:\n",
    "    fi = csv.reader(f)\n",
    "    row = 0\n",
    "    cnt = 0\n",
    "    for l in fi:\n",
    "        if row == 0:\n",
    "            pass\n",
    "        else:\n",
    "            c = l[1]\n",
    "            d = l[3]\n",
    "            po = l[4]  \n",
    "            pr = l[5]  \n",
    "            p = l[6]\n",
    "            v = l[9]\n",
    "            w = l[10]\n",
    "            if c and d and p and v and w and po and pr:\n",
    "                if c in country.keys():\n",
    "                    country[c] += 1\n",
    "                else:\n",
    "                    country[c] = 1\n",
    "                if d in designation.keys():\n",
    "                    designation[d] += 1\n",
    "                else:\n",
    "                    designation[d] = 1\n",
    "                if p in province.keys():\n",
    "                    province[p] += 1\n",
    "                else:\n",
    "                    province[p] = 1\n",
    "                if v in variety.keys():\n",
    "                    variety[v] += 1\n",
    "                else:\n",
    "                    variety[v] = 1\n",
    "                if w in winery.keys():\n",
    "                    winery[w] += 1\n",
    "                else:\n",
    "                    winery[w] = 1\n",
    "                m = (round(float(po)) - 80) \n",
    "                if m in points.keys():\n",
    "                    points[m] += 1\n",
    "                else:\n",
    "                    points[m] = 1\n",
    "                n = (round(float(pr)) - 4) \n",
    "                if round(float(pr)) > 76:\n",
    "                    n = 5\n",
    "                if n in price.keys():\n",
    "                    price[n] += 1\n",
    "                else:\n",
    "                    price[n] = 1\n",
    "                m = 'points_' + str(m)\n",
    "                n = 'price_' + str(n)\n",
    "                data[cnt] = [c, d, p, v, w, m, n]\n",
    "                cnt += 1\n",
    "        row += 1\n"
   ]
  },
  {
   "cell_type": "markdown",
   "metadata": {},
   "source": [
    "## 2. Apriori 算法实现"
   ]
  },
  {
   "cell_type": "code",
   "execution_count": 53,
   "metadata": {},
   "outputs": [],
   "source": [
    "class Apriori:\n",
    "    def __init__(self, min_sup=0.2, dataDic={}):\n",
    "        self.data = dataDic\n",
    "        self.size = len(dataDic)\n",
    "        self.min_sup = min_sup\n",
    "        self.min_sup_val = min_sup * self.size\n",
    "\n",
    "    def l_1_items(self):\n",
    "        FreqDic = {}\n",
    "        L1_item  = dict()\n",
    "        for event in self.data:\n",
    "            for item in self.data[event]:\n",
    "                if item in FreqDic:\n",
    "                    FreqDic[item] += 1\n",
    "                else:\n",
    "                    FreqDic[item] = 1\n",
    "        L1 = []\n",
    "        for itemset in FreqDic:\n",
    "            if FreqDic[itemset] >= self.min_sup_val: \n",
    "                L1.append([itemset])  \n",
    "                L1_item[itemset] = FreqDic[itemset]\n",
    "\n",
    "        return L1, L1_item\n",
    "    \n",
    "    # truncate\n",
    "    def apriori_gen(self, L_last):\n",
    "        k = len(L_last[0]) + 1\n",
    "        Ck = []\n",
    "        for itemset1 in L_last:\n",
    "            for itemset2 in L_last:\n",
    "                flag = 0\n",
    "                for i in range(k - 2):\n",
    "                    if itemset1[i] != itemset2[i]:\n",
    "                        flag = 1\n",
    "                        break;\n",
    "                if flag == 1:\n",
    "                    continue\n",
    "                if itemset1[k - 2] < itemset2[k - 2]:\n",
    "                    c = itemset1 + [itemset2[k - 2]]\n",
    "                else:\n",
    "                    continue\n",
    "                if self.has_infrequent_subset(c, L_last, k):\n",
    "                    continue\n",
    "                else:\n",
    "                    Ck.append(c)\n",
    "        return Ck\n",
    "\n",
    "    # transcendence\n",
    "    def has_infrequent_subset(self, c, L_last, k):\n",
    "        subsets = list(itertools.combinations(c, k - 1))\n",
    "        for each in subsets:\n",
    "            each = list(each)\n",
    "            if each not in L_last:\n",
    "                return True\n",
    "        return False\n",
    "\n",
    "    def generate(self):\n",
    "        L_last, _ = self.l_1_items()\n",
    "        L = L_last\n",
    "        i = 0\n",
    "        j = 2\n",
    "        L2_item = dict()\n",
    "\n",
    "        while L_last != []:\n",
    "            Ck = self.apriori_gen(L_last)\n",
    "            FreqDic = {}\n",
    "            for event in self.data:\n",
    "                for c in Ck:\n",
    "                    if set(c) <= set(self.data[event]):\n",
    "                        if tuple(c) in FreqDic:\n",
    "                            FreqDic[tuple(c)] += 1\n",
    "                        else:\n",
    "                            FreqDic[tuple(c)] = 1\n",
    "            Lk = []\n",
    "            num = []\n",
    "            Lo = []\n",
    "            for c in FreqDic:\n",
    "                if FreqDic[c] > self.min_sup_val:\n",
    "                    Lk.append(list(c))\n",
    "                    num.append(FreqDic[c])\n",
    "\n",
    "            L_last = Lk\n",
    "            L += Lk\n",
    "\n",
    "            if len(Lk) != 0:\n",
    "                for i in range(0, len(Lk)):\n",
    "                    content = \"\"\n",
    "                    for j in range(len(Lk[i])):\n",
    "                        content = content + Lk[i][j] + '+'\n",
    "                    content = content[:-1]\n",
    "                    L2_item[content] = num[i]\n",
    "                j += 1\n",
    "        return L, L2_item"
   ]
  },
  {
   "cell_type": "markdown",
   "metadata": {},
   "source": [
    "## 3. 关联规则挖掘\n",
    "### 3.1 频繁项集"
   ]
  },
  {
   "cell_type": "code",
   "execution_count": 54,
   "metadata": {},
   "outputs": [
    {
     "name": "stdout",
     "output_type": "stream",
     "text": [
      "枚举所有频繁项集：\n",
      "['Roger Voss']\n",
      "['@vossroger']\n",
      "['US']\n",
      "['California']\n",
      "['@vossroger', 'Roger Voss']\n",
      "['California', 'US']\n",
      "\n",
      "1-项集\n",
      "Roger Voss : 14368\n",
      "@vossroger : 14368\n",
      "US : 24002\n",
      "California : 14002\n",
      "\n",
      "2-项集\n",
      "@vossroger+Roger Voss : 14368\n",
      "California+US : 14000\n"
     ]
    }
   ],
   "source": [
    "apr = Apriori(dataDic=data)\n",
    "L1, L1_item = apr.l_1_items()\n",
    "res, L2_item = apr.generate()\n",
    "L2 = []\n",
    "\n",
    "# print all\n",
    "print('枚举所有频繁项集：')\n",
    "for i in res:\n",
    "    print(i)\n",
    "    \n",
    "# print L1\n",
    "print('\\n1-项集')\n",
    "for i in L1_item.keys():\n",
    "    print(i, ':', L1_item[i])\n",
    "    \n",
    "# print L2\n",
    "print('\\n2-项集')\n",
    "for i in L2_item.keys():\n",
    "    L2.append(i)\n",
    "    print(i, ':', L2_item[i])"
   ]
  },
  {
   "cell_type": "markdown",
   "metadata": {},
   "source": [
    "### 3.2 支持度和置信度计算"
   ]
  },
  {
   "cell_type": "code",
   "execution_count": 55,
   "metadata": {},
   "outputs": [
    {
     "name": "stdout",
     "output_type": "stream",
     "text": [
      "@vossroger+Roger Voss的支持度为：0.21741367309263687\n",
      "@vossroger+Roger Voss的置信度为：1.0\n",
      "California+US的支持度为：0.2118451714432709\n",
      "California+US的置信度为：0.999857163262391\n",
      "[0.21741367309263687, 0.2118451714432709] [1.0, 0.999857163262391]\n"
     ]
    }
   ],
   "source": [
    "support = [] # 支持度\n",
    "confidence = [] # 置信度\n",
    "for item in L2_item:\n",
    "    num = L2_item[item]\n",
    "    s = num / len(data)\n",
    "    support.append(s)\n",
    "    print(f'{item}的支持度为：{s}')\n",
    "\n",
    "    # 计算置信度\n",
    "    condition = item.split('+')[0]\n",
    "    condition_num = L1_item[condition]\n",
    "    c = num / condition_num\n",
    "    confidence.append(c)\n",
    "    print(f'{item}的置信度为：{c}')\n",
    "    \n",
    "print(support, confidence)"
   ]
  },
  {
   "cell_type": "markdown",
   "metadata": {},
   "source": [
    "### 3.3 规则评价\n",
    "#### 3.3.1 Kulc 方法"
   ]
  },
  {
   "cell_type": "code",
   "execution_count": 56,
   "metadata": {},
   "outputs": [
    {
     "name": "stdout",
     "output_type": "stream",
     "text": [
      "Kulc of @vossroger+Roger Voss: 1.0\n",
      "Kulc of California+US: 0.7915709447676008\n"
     ]
    }
   ],
   "source": [
    "kulc_scores = []\n",
    "for item in L2_item:\n",
    "    num = L2_item[item]\n",
    "    its = item.split('+')\n",
    "    first = L1_item[its[0]]\n",
    "    second = L1_item[its[1]]\n",
    "    first_pro = num / first\n",
    "    second_pro = num / second\n",
    "    kulc = (first_pro + second_pro) / 2\n",
    "    kulc_scores.append(kulc)\n",
    "    print(f'Kulc of {item}: {kulc}')"
   ]
  },
  {
   "cell_type": "markdown",
   "metadata": {},
   "source": [
    "#### 3.3.2 Lift 方法"
   ]
  },
  {
   "cell_type": "code",
   "execution_count": 57,
   "metadata": {},
   "outputs": [
    {
     "name": "stdout",
     "output_type": "stream",
     "text": [
      "Lift of @vossroger+Roger Voss: 4.599526726057906\n",
      "Lift of California+US: 2.7529606070893418\n"
     ]
    }
   ],
   "source": [
    "lift_scores = []\n",
    "for item in L2_item:\n",
    "    num = L2_item[item]\n",
    "    its = item.split('+')\n",
    "    first = L1_item[its[0]]\n",
    "    second = L1_item[its[1]]\n",
    "    lift = (num / len(data)) / ((first / len(data)) * (second / len(data)))\n",
    "    lift_scores.append(lift)\n",
    "    print(f'Lift of {item}: {lift}')"
   ]
  },
  {
   "cell_type": "markdown",
   "metadata": {},
   "source": [
    "## 4. 可视化\n",
    "### 4.1 支持度与置信度可视化"
   ]
  },
  {
   "cell_type": "code",
   "execution_count": 58,
   "metadata": {},
   "outputs": [
    {
     "name": "stdout",
     "output_type": "stream",
     "text": [
      "['@vossroger+Roger Voss', 'California+US']\n"
     ]
    },
    {
     "data": {
      "image/png": "[encoded data removed]",
      "text/plain": [
       "<Figure size 432x288 with 1 Axes>"
      ]
     },
     "metadata": {
      "needs_background": "light"
     },
     "output_type": "display_data"
    }
   ],
   "source": [
    "x = L2  \n",
    "print(x)\n",
    "k1 = support \n",
    "k2 = confidence  \n",
    "plt.plot(x, k1, 's-', color = 'b', label=\"support\")  \n",
    "plt.plot(x, k2, 'o-', color = 'y', label=\"confidence\")  \n",
    "plt.xlabel(\"2-items\") \n",
    "plt.ylabel(\"score\") \n",
    "plt.legend(loc=\"best\") \n",
    "plt.title(\"support-confidence chart\")\n",
    "plt.show()"
   ]
  },
  {
   "cell_type": "markdown",
   "metadata": {},
   "source": [
    "### 4.2 规则评价可视化"
   ]
  },
  {
   "cell_type": "code",
   "execution_count": 51,
   "metadata": {},
   "outputs": [
    {
     "data": {
      "image/png": "[encoded data removed]",
      "text/plain": [
       "<Figure size 432x288 with 1 Axes>"
      ]
     },
     "metadata": {
      "needs_background": "light"
     },
     "output_type": "display_data"
    }
   ],
   "source": [
    "\n",
    "# 规则评价的结果折线图\n",
    "x = L2  # 点的横坐标\n",
    "k1 = lift_scores # lift纵坐标\n",
    "k2 = kulc_scores  # kulc的纵坐标\n",
    "plt.plot(x, k1, 's-', color = 'r', label=\"Lift\")  #s-:方形\n",
    "plt.plot(x, k2, 'o-', color = 'g', label=\"Kulc\")  #o-:圆形\n",
    "plt.xlabel(\"2-items\")  # 横坐标名字\n",
    "plt.ylabel(\"score\")  # 纵坐标名字\n",
    "plt.legend(loc=\"best\")  # 图例\n",
    "plt.title(\"Rule evaluation chart\")\n",
    "plt.show()"
   ]
  }
 ],
 "metadata": {
  "kernelspec": {
   "display_name": "Python 3",
   "language": "python",
   "name": "python3"
  },
  "language_info": {
   "codemirror_mode": {
    "name": "ipython",
    "version": 3
   },
   "file_extension": ".py",
   "mimetype": "text/x-python",
   "name": "python",
   "nbconvert_exporter": "python",
   "pygments_lexer": "ipython3",
   "version": "3.7.7"
  }
 },
 "nbformat": 4,
 "nbformat_minor": 4
}
