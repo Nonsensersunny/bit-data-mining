{
 "cells": [
  {
   "cell_type": "code",
   "execution_count": 5,
   "metadata": {},
   "outputs": [
    {
     "name": "stdout",
     "output_type": "stream",
     "text": [
      "6.708203932499369 11.0 6.708203932499369 6.0\n"
     ]
    }
   ],
   "source": [
    "import numpy as np\n",
    "\n",
    "v1 = np.array([22, 1, 42, 10])\n",
    "v2 = np.array([20, 0, 36, 8])\n",
    "\n",
    "# 欧几里得距离\n",
    "d1 = np.linalg.norm(v1 - v2)\n",
    "\n",
    "# 曼哈顿距离\n",
    "d2 = np.linalg.norm(v1 - v2, ord=1)\n",
    "\n",
    "# 闵可夫斯基距离\n",
    "d3 = np.sqrt(np.sum(np.square(v1 - v2)))\n",
    "\n",
    "# 上确界距离\n",
    "d4 = np.linalg.norm(v1 - v2, ord=np.inf)\n",
    "\n",
    "print(d1, d2, d3, d4)"
   ]
  },
  {
   "cell_type": "code",
   "execution_count": 15,
   "metadata": {},
   "outputs": [
    {
     "name": "stdout",
     "output_type": "stream",
     "text": [
      "0.14142135623730948 0.10000000000000009 0.19999999999999996 [[0.9999957]]\n",
      "0.6708203932499369 0.6000000000000001 0.8999999999999999 [[0.99787613]]\n",
      "0.28284271247461906 0.20000000000000018 0.40000000000000013 [[0.99998474]]\n",
      "0.22360679774997896 0.19999999999999996 0.30000000000000004 [[0.99951412]]\n",
      "0.608276253029822 0.6000000000000001 0.7000000000000002 [[0.9826817]]\n",
      "[[0.65850461 0.75257669]] [[0.66162164 0.74983786]] [[0.72499943 0.68874946]] [[0.66436384 0.74740932]] [[0.62469505 0.78086881]] [[0.83205029 0.5547002 ]]\n",
      "0.004149350803200864 0.09217091457843411 0.007812321193114019 0.044085486555962686 0.2631980507972417\n"
     ]
    }
   ],
   "source": [
    "import numpy as np\n",
    "\n",
    "x = np.mat([1.4, 1.6])\n",
    "x1 = np.mat([1.5, 1.7])\n",
    "x2 = np.mat([2, 1.9])\n",
    "x3 = np.mat([1.6, 1.8])\n",
    "x4 = np.mat([1.2, 1.5])\n",
    "x5 = np.mat([1.5, 1.0])\n",
    "\n",
    "# x1\n",
    "d11 = np.linalg.norm(x - x1)\n",
    "d12 = np.linalg.norm(x - x1, ord=1)\n",
    "d13 = np.linalg.norm(x - x1, ord=np.inf)\n",
    "d14 = 0.5 + 0.5 * (x * x1.T) / (np.linalg.norm(x) * np.linalg.norm(x1))\n",
    "print(d11, d12, d13, d14)\n",
    "\n",
    "# x2\n",
    "d21 = np.linalg.norm(x - x2)\n",
    "d22 = np.linalg.norm(x - x2, ord=1)\n",
    "d23 = np.linalg.norm(x - x2, ord=np.inf)\n",
    "d24 = 0.5 + 0.5 * (x * x2.T) / (np.linalg.norm(x) * np.linalg.norm(x2))\n",
    "print(d21, d22, d23, d24)\n",
    "\n",
    "# x3\n",
    "d31 = np.linalg.norm(x - x3)\n",
    "d32 = np.linalg.norm(x - x3, ord=1)\n",
    "d33 = np.linalg.norm(x - x3, ord=np.inf)\n",
    "d34 = 0.5 + 0.5 * (x * x3.T) / (np.linalg.norm(x) * np.linalg.norm(x3))\n",
    "print(d31, d32, d33, d34)\n",
    "\n",
    "# x4\n",
    "d41 = np.linalg.norm(x - x4)\n",
    "d42 = np.linalg.norm(x - x4, ord=1)\n",
    "d43 = np.linalg.norm(x - x4, ord=np.inf)\n",
    "d44 = 0.5 + 0.5 * (x * x4.T) / (np.linalg.norm(x) * np.linalg.norm(x4))\n",
    "print(d41, d42, d43, d44)\n",
    "\n",
    "# x5\n",
    "d51 = np.linalg.norm(x - x5)\n",
    "d52 = np.linalg.norm(x - x5, ord=1)\n",
    "d53 = np.linalg.norm(x - x5, ord=np.inf)\n",
    "d54 = 0.5 + 0.5 * (x * x5.T) / (np.linalg.norm(x) * np.linalg.norm(x5))\n",
    "print(d51, d52, d53, d54)\n",
    "\n",
    "# 规格化数据\n",
    "def formalize(n):\n",
    "    dist = np.sqrt(np.sum(np.square(n)))\n",
    "    return n/dist\n",
    "\n",
    "x = formalize(x)\n",
    "x1 = formalize(x1)\n",
    "x2 = formalize(x2)\n",
    "x3 = formalize(x3)\n",
    "x4 = formalize(x4)\n",
    "x5 = formalize(x5)\n",
    "print(x, x1, x2, x3, x4, x5)\n",
    "\n",
    "# 规格化后的欧几里得距离\n",
    "do1 = np.linalg.norm(x - x1)\n",
    "do2 = np.linalg.norm(x - x2)\n",
    "do3 = np.linalg.norm(x - x3)\n",
    "do4 = np.linalg.norm(x - x4)\n",
    "do5 = np.linalg.norm(x - x5)\n",
    "print(do1, do2, do3, do4, do5)"
   ]
  },
  {
   "cell_type": "code",
   "execution_count": null,
   "metadata": {},
   "outputs": [],
   "source": []
  }
 ],
 "metadata": {
  "kernelspec": {
   "display_name": "Python 3",
   "language": "python",
   "name": "python3"
  },
  "language_info": {
   "codemirror_mode": {
    "name": "ipython",
    "version": 3
   },
   "file_extension": ".py",
   "mimetype": "text/x-python",
   "name": "python",
   "nbconvert_exporter": "python",
   "pygments_lexer": "ipython3",
   "version": "3.7.6"
  }
 },
 "nbformat": 4,
 "nbformat_minor": 4
}
