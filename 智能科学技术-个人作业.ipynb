{
 "cells": [
  {
   "cell_type": "markdown",
   "metadata": {},
   "source": [
    "# 应用遗传算法寻找八数码从初始状态到目标状态的解路径\n",
    "\n",
    "> 3220191000 软件工程 赵菊文"
   ]
  },
  {
   "cell_type": "code",
   "execution_count": 18,
   "metadata": {},
   "outputs": [],
   "source": [
    "# 导入算法需要的库以及定义相关变量\n",
    "import  math\n",
    "import  random\n",
    "import  copy\n",
    "\n",
    "C = 540                           # 最大适应度\n",
    "LEN = 140                         # 基因长度\n",
    "maxGene = []                      # 最长基因组\n",
    "maxi = 0                          # 最大值最初出现的进化代数\n",
    "findAim = False                   # 是否找到目标（用于评价）\n",
    "POPMAX = 32                       # 种群数量\n",
    "P_XOVER = 0.8                     # 交叉概率\n",
    "P_MUTATION = 0.15                 # 变异概率\n",
    "MAXGENERATIONS = 1000             # 总的进化代数\n",
    "goal = [1,2,3,8,0,4,7,6,5]        # 目标状态\n",
    "initiate = [2,8,3,1,0,4,7,6,5]    # 初始状态\n",
    "pop = []                          # 种群所有对象"
   ]
  },
  {
   "cell_type": "markdown",
   "metadata": {},
   "source": [
    "## 1. 个体编码\n",
    "\n",
    "遗传算法的运算对象是表示个体的符号串，所以必须把变量 x1, x2 编码为一种符号串。本题中，用无符号二进制整数来表示。因 x1, x2 为 0 ~ 7之间的整数，所以分别用3位无符号二进制整数来表示，将它们连接在一起所组成的6位无符号二进制数就形成了个体的基因型，表示一个可行解。\n",
    "例如，基因型 X＝101110 所对应的表现型是：x＝[ 5，6 ]。个体的表现型x和基因型X之间可通过编码和解码程序相互转换。"
   ]
  },
  {
   "cell_type": "code",
   "execution_count": 17,
   "metadata": {},
   "outputs": [],
   "source": [
    "class Gene:\n",
    "  def __init__(self, gene):\n",
    "      self.gene = gene  \n",
    "      self.fitness = 0\n",
    "      self.rf = 0    \n",
    "      self.cf = 0    "
   ]
  },
  {
   "cell_type": "markdown",
   "metadata": {},
   "source": [
    "## 2. 初始群体产生\n",
    "\n",
    "遗传算法是对群体进行的进化操作，需要给其淮备一些表示起始搜索点的初始群体数据。本例中，群体规模的大小取为4，即群体由4个个体组成，每个个体可通过随机方法产生。如：011101，101011，011100，111001。"
   ]
  },
  {
   "cell_type": "code",
   "execution_count": 7,
   "metadata": {},
   "outputs": [],
   "source": [
    "def initGenes() :\n",
    "  count = 0\n",
    "  maxFit = 100                                # 随机生成的基因适应度的最大值\n",
    "  while(count < POPMAX):\n",
    "      tmp = []\n",
    "      for j in range(LEN):\n",
    "          pow = round(random.random() * 3)    # 随机生成算法：0 -> 上，1 -> 下, 2 -> 左, 3 -> 右\n",
    "          tmp.append(pow)\n",
    " \n",
    "      pop.append(Gene(tmp))\n",
    "      count+=1\n",
    "        \n",
    "\n",
    "def move (current, dire):\n",
    "     space = 0 \n",
    "     block = 0 \n",
    "     for i in range(len(current)):\n",
    "        if (current[i] == 0):\n",
    "            space = i\n",
    "            block = space\n",
    "            break\n",
    " \n",
    " \n",
    "     if (dire == 0) :\n",
    "        if (space - 3 >= 0):\n",
    "            block = space - 3\n",
    " \n",
    "     elif(dire == 1 and (space + 3 < 9)) :\n",
    "            block  = space + 3\n",
    "     elif(dire == 2) :\n",
    "          if (space % 3 > 0) :\n",
    "             block = space - 1\n",
    " \n",
    "     elif(dire == 3) :\n",
    "        if (space % 3 < 2) :\n",
    "            block = space + 1\n",
    " \n",
    " \n",
    "     current[space], current[block]= current[block], current[space]\n",
    "     if (space == block):\n",
    "        return False\n",
    "     else:\n",
    "        return True"
   ]
  },
  {
   "cell_type": "markdown",
   "metadata": {},
   "source": [
    "## 3. 适应度计算\n",
    "\n",
    "遗传算法中以个体适应度的大小来评定各个个体的优劣程度，从而决定其遗传机会的大小。本例中，目标函数总取非负值，并且是以求函数最大值为优化目标，故可直接利用目标函数值作为个体的适应度。"
   ]
  },
  {
   "cell_type": "code",
   "execution_count": 8,
   "metadata": {},
   "outputs": [],
   "source": [
    "def fitness(current) :\n",
    "    f = 0\n",
    "    for i in range(len(current)):\n",
    "        if (current[i] == goal[i]) :\n",
    "            f += 100 - current[i]*10\n",
    "    return f"
   ]
  },
  {
   "cell_type": "markdown",
   "metadata": {},
   "source": [
    "## 4. 选择运算\n",
    "\n",
    "选择运算(或称为复制运算)把当前群体中适应度较高的个体按某种规则或模型遗传到下一代群体中。一般要求适应度较高的个体将有更多的机会遗传到下一代群体中。本例中，我们采用与适应度成正比的概率来确定各个个体复制到下一代群体中的数量。操作过程的具体描述如下：\n",
    "\n",
    "1. 先计算出群体中所有个体的适应度的总和；\n",
    "2. 其次计算出每个个体的相对适应度的大小，它即为每个个体被遗传到下一代群体中的概率；\n",
    "3. 每个概率值组成一个区域，全部概率值之和为1；\n",
    "4. 最后再产生一个0到1之间的随机数，依据该随机数出现在上述哪一个概率区域内来确定各个个体被选中的次数。"
   ]
  },
  {
   "cell_type": "code",
   "execution_count": 19,
   "metadata": {},
   "outputs": [],
   "source": [
    "def envaluateFitness(maxi):          # max 参数用于记录进化代数\n",
    "  totalFitness = 0\n",
    "  for i in range(POPMAX):\n",
    "      s0 = initiate[:]               # 每一步移动后的状态\n",
    "      pop[i].fitness = 0\n",
    "      for j in range(LEN):\n",
    "        move(s0, pop[i].gene[j])\n",
    "        pop[i].fitness = fitness(s0)\n",
    "        if (pop[i].fitness == C) :\n",
    "            global findAim\n",
    "            findAim = True\n",
    "            global maxGene\n",
    "            maxGene = pop[i].gene[0:j+1]\n",
    "            return totalFitness\n",
    " \n",
    " \n",
    "      if(pop[i].fitness == 0) :\n",
    "        pop[i].fitness = 1\n",
    " \n",
    "      totalFitness += pop[i].fitness\n",
    " \n",
    "  return totalFitness\n",
    "\n",
    "def selectBetter(totalFitness):                  # 轮盘赌选择算法简单实现\n",
    "  lastCf = 0\n",
    "  newPop = [None for i in range(POPMAX)]\n",
    "  global pop\n",
    "  for i in range(POPMAX):                        # 计算个体选择概率和累积概率\n",
    "      pop[i].rf = pop[i].fitness / totalFitness\n",
    "      pop[i].cf = lastCf + pop[i].rf\n",
    "      lastCf = pop[i].cf\n",
    " \n",
    "  for i in range(POPMAX):                        #轮盘赌式选择\n",
    "      p = random.random()\n",
    "      if(p < pop[0].cf):\n",
    "          newPop[i] = Gene(pop[0].gene)\n",
    "          # newPop.append(Gene(pop[0].gene))\n",
    "      else:\n",
    "          for j in range(POPMAX-1):\n",
    "              if(p >= pop[j].cf and p < pop[j+1].cf):\n",
    "                  newPop[i] = Gene(pop[j+1].gene)\n",
    "                  # newPop.append(Gene(pop[j+1].gene))\n",
    "                  break\n",
    " \n",
    "  if (len(newPop) == 0) :\n",
    "      # console.log(pop)\n",
    "      print(pop)\n",
    "  pop = copy.deepcopy(newPop)\n",
    "\n",
    "def exChgOver(first,second):         \n",
    "  ecc = round(random.random() * LEN)\n",
    "  for i in range(int(ecc)):\n",
    "      index = math.floor(random.random() * LEN)\n",
    "      pop[first].gene[index], pop[second].gene[index] = pop[second].gene[index], pop[first].gene[index]"
   ]
  },
  {
   "cell_type": "markdown",
   "metadata": {},
   "source": [
    "## 5. 交叉运算\n",
    "\n",
    "交叉运算是遗传算法中产生新个体的主要操作过程，它以某一概率相互交换某两个个体之间的部分染色体。本例采用单点交叉的方法，其具体操作过程是：\n",
    "\n",
    "1. 先对群体进行随机配对；\n",
    "2. 其次随机设置交叉点位置；\n",
    "3. 最后再相互交换配对染色体之间的部分基因。"
   ]
  },
  {
   "cell_type": "code",
   "execution_count": 20,
   "metadata": {},
   "outputs": [],
   "source": [
    "def crossover():\n",
    "  first = -1\n",
    "  for i in range(POPMAX):\n",
    "      p = random.random()\n",
    "      if(p < P_XOVER):\n",
    "          if(first < 0):\n",
    "              first = i\n",
    "          else:   \n",
    "              exChgOver(first,i)\n",
    "              first = -1"
   ]
  },
  {
   "cell_type": "markdown",
   "metadata": {},
   "source": [
    "## 6. 变异运算\n",
    "\n",
    "变异运算是对个体的某一个或某一些基因座上的基因值按某一较小的概率进行改变，它也是产生新个体的一种操作方法。本例中，我们采用基本位变异的方法来进行变异运算，其具体操作过程是：\n",
    "\n",
    "1. 首先确定出各个个体的基因变异位置，下表所示为随机产生的变异点位置，其中的数字表示变异点设置在该基因座处；\n",
    "2. 然后依照某一概率将变异点的原有基因值取反。"
   ]
  },
  {
   "cell_type": "code",
   "execution_count": 21,
   "metadata": {},
   "outputs": [],
   "source": [
    "def reverseGene(index):         # 变异操作函数\n",
    "  mcc = round(random.random() * LEN)\n",
    "  for i in range(int(mcc)):\n",
    "      gi = math.floor(random.random() * LEN)\n",
    "      pop[index].gene[gi] = 3 - pop[index].gene[gi]\n",
    " \n",
    " \n",
    "def mutation():\n",
    "  for i in range(POPMAX):\n",
    "      p = random.random()\n",
    "      if(p < P_MUTATION):       # 只有当随机数小于变异概率才进行变异操作\n",
    "          reverseGene(i)"
   ]
  },
  {
   "cell_type": "markdown",
   "metadata": {},
   "source": [
    "## 7. 算法示例输出"
   ]
  },
  {
   "cell_type": "code",
   "execution_count": 22,
   "metadata": {},
   "outputs": [
    {
     "name": "stdout",
     "output_type": "stream",
     "text": [
      "['右', '左', '下', '左', '右', '左', '上', '右', '左', '下', '上', '下', '上', '下', '上', '右', '下', '上', '左', '上', '下', '右', '左', '右', '左', '下', '上', '上', '下', '下', '右', '右', '左', '上', '下', '左', '右', '上', '上', '右', '下', '左', '右', '上', '左', '右', '左', '左', '下', '下', '上', '右']\n",
      "[1, 2, 3, 8, 0, 4, 7, 6, 5]\n"
     ]
    }
   ],
   "source": [
    "def transform (gene) :\n",
    "    s0 = initiate[:]\n",
    "    options = []\n",
    "    for i in range(len(gene)):\n",
    "        if (move(s0, gene[i])) :\n",
    "            if (gene[i] == 0) :\n",
    "                options.append('上')\n",
    "            elif (gene[i] == 1) :\n",
    "                options.append('下')\n",
    "            elif (gene[i] == 2) :\n",
    "                options.append('左')\n",
    "            elif (gene[i] == 3):\n",
    "                options.append('右')\n",
    " \n",
    "    print(options)\n",
    "    print(s0)\n",
    "    \n",
    "initGenes()\n",
    "f = envaluateFitness(0)\n",
    "for i in range(MAXGENERATIONS):\n",
    "    selectBetter(f)\n",
    "    crossover()\n",
    "    mutation()\n",
    "    f= envaluateFitness(i)\n",
    "    if (findAim) :\n",
    "        break\n",
    "        \n",
    "transform(maxGene)"
   ]
  }
 ],
 "metadata": {
  "kernelspec": {
   "display_name": "Python 3",
   "language": "python",
   "name": "python3"
  },
  "language_info": {
   "codemirror_mode": {
    "name": "ipython",
    "version": 3
   },
   "file_extension": ".py",
   "mimetype": "text/x-python",
   "name": "python",
   "nbconvert_exporter": "python",
   "pygments_lexer": "ipython3",
   "version": "3.7.7"
  }
 },
 "nbformat": 4,
 "nbformat_minor": 4
}
