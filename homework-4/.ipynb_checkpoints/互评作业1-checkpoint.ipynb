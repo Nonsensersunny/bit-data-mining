{
 "cells": [
  {
   "cell_type": "markdown",
   "metadata": {},
   "source": [
    "# 互评作业1: 数据探索性分析与数据预处理\n",
    "\n",
    "选取的数据集：\n",
    "1. [Wine Reviews](https://www.kaggle.com/zynicide/wine-reviews)\n",
    "2. [Trending YouTube Video Statistics](https://www.kaggle.com/datasnaek/youtube-new)\n",
    "\n",
    "> 导入数据集"
   ]
  },
  {
   "cell_type": "code",
   "execution_count": 42,
   "metadata": {},
   "outputs": [],
   "source": [
    "import numpy as np\n",
    "import pandas as pd\n",
    "from scipy import stats\n",
    "import matplotlib.pyplot as plt\n",
    "import operator\n",
    "\n",
    "# Wine Reviews\n",
    "wine_1 = pd.read_csv('./wine-reviews/winemag-data-130k-v2.csv', index_col = 0)\n",
    "wine_2 = pd.read_csv('./wine-reviews/winemag-data_first150k.csv', index_col = 0)\n",
    "wine_data = pd.concat([wine_1, wine_2], ignore_index=True, verify_integrity=True, sort=False)\n",
    "\n",
    "# Trending YouTube Video Statistics\n",
    "ytb_01 = pd.read_csv('./youtube-new/CAvideos.csv', index_col = 0)\n",
    "ytb_02 = pd.read_csv('./youtube-new/DEvideos.csv', index_col = 0)\n",
    "ytb_03 = pd.read_csv('./youtube-new/FRvideos.csv', index_col = 0)\n",
    "ytb_04 = pd.read_csv('./youtube-new/GBvideos.csv', index_col = 0)\n",
    "ytb_05 = pd.read_csv('./youtube-new/INvideos.csv', index_col = 0)\n",
    "ytb_06 = pd.read_csv('./youtube-new/JPvideos.csv', index_col = 0, engine = 'python')\n",
    "ytb_07 = pd.read_csv('./youtube-new/KRvideos.csv', index_col = 0, engine = 'python')\n",
    "ytb_08 = pd.read_csv('./youtube-new/MXvideos.csv', index_col = 0, engine = 'python')\n",
    "ytb_09 = pd.read_csv('./youtube-new/RUvideos.csv', index_col = 0, engine = 'python')\n",
    "ytb_10 = pd.read_csv('./youtube-new/USvideos.csv', index_col = 0)\n",
    "ytb_data = pd.concat([ytb_01, ytb_02, ytb_03, ytb_04, ytb_05, ytb_06, ytb_07, ytb_08, ytb_09, ytb_10], ignore_index=True, verify_integrity=True, sort=False)\n",
    "\n"
   ]
  },
  {
   "cell_type": "markdown",
   "metadata": {},
   "source": [
    "## 1. 数据可视化和摘要\n",
    "### 1.1 数据摘要"
   ]
  },
  {
   "cell_type": "code",
   "execution_count": 43,
   "metadata": {},
   "outputs": [
    {
     "name": "stdout",
     "output_type": "stream",
     "text": [
      "country 的频数统计展示\n",
      "country:\t frequency\n",
      "US:\t 116901\n",
      "France:\t 43191\n",
      "Italy:\t 43018\n",
      "Spain:\t 14913\n",
      "Portugal:\t 11013\n",
      "Chile:\t 10288\n",
      "Argentina:\t 9431\n",
      "Australia:\t 7286\n",
      "Austria:\t 6402\n",
      "New Zealand:\t 4739\n",
      "Germany:\t 4617\n",
      "South Africa:\t 3659\n",
      "Greece:\t 1350\n",
      "Israel:\t 1135\n",
      "Canada:\t 453\n",
      "Hungary:\t 377\n",
      "Romania:\t 259\n",
      "Bulgaria:\t 218\n",
      "Uruguay:\t 201\n",
      "Slovenia:\t 181\n",
      "\n",
      "\n",
      "province 的频数统计展示\n",
      "province:\t\t frequency\n",
      "California:\t\t 80755\n",
      "Washington:\t\t 18389\n",
      "Tuscany:\t\t 13178\n",
      "Bordeaux:\t\t 12052\n",
      "Oregon:\t\t 9962\n",
      "Northern Spain:\t\t 8743\n",
      "Burgundy:\t\t 8288\n",
      "Mendoza Province:\t\t 8006\n",
      "Piedmont:\t\t 7822\n",
      "Veneto:\t\t 6678\n",
      "New York:\t\t 5116\n",
      "South Australia:\t\t 4353\n",
      "Sicily & Sardinia:\t\t 4342\n",
      "Alsace:\t\t 4120\n",
      "Northeastern Italy:\t\t 4120\n",
      "Loire Valley:\t\t 3642\n",
      "Southwest France:\t\t 3104\n",
      "Champagne:\t\t 2983\n",
      "Southern Italy:\t\t 2788\n",
      "Central Italy:\t\t 2763\n"
     ]
    }
   ],
   "source": [
    "# 频数\n",
    "def freq(data):\n",
    "    res = dict()\n",
    "    for i in data:\n",
    "        if i in res:\n",
    "            res[i] += 1\n",
    "        else:\n",
    "            res[i] = 1\n",
    "    return res\n",
    "        \n",
    "## 1. Wine Reviews 的相关频数\n",
    "# 1.1 country\n",
    "country = {k: v for k, v in sorted(freq(wine_data.country).items(), key=lambda item: item[1], reverse=True)}\n",
    "pairs = {k: country[k] for k in list(country)[:20]}\n",
    "print(\"country 的频数统计展示\\ncountry:\\t frequency\")\n",
    "for c, f in pairs.items():\n",
    "    print(\"%s:\\t %i\" % (c, f))\n",
    "    \n",
    "# 1.2 province\n",
    "province = {k: v for k, v in sorted(freq(wine_data.province).items(), key=lambda item: item[1], reverse = True)}\n",
    "pairs = {k: province[k] for k in list(province)[:20]}\n",
    "print(\"\\n\\nprovince 的频数统计展示\\nprovince:\\t\\t frequency\")\n",
    "for p, f in pairs.items():\n",
    "    print(\"%s:\\t\\t %i\" % (p, f))"
   ]
  },
  {
   "cell_type": "code",
   "execution_count": 44,
   "metadata": {},
   "outputs": [
    {
     "name": "stdout",
     "output_type": "stream",
     "text": [
      "\n",
      "\n",
      "channel_title 的频数统计展示\n",
      "channel_title:\t\t\t\t frequency\n",
      "The Late Show with Stephen Colbert:\t\t\t\t 984\n",
      "WWE:\t\t\t\t 804\n",
      "Late Night with Seth Meyers:\t\t\t\t 773\n",
      "VikatanTV:\t\t\t\t 763\n",
      "TheEllenShow:\t\t\t\t 743\n",
      "Jimmy Kimmel Live:\t\t\t\t 707\n",
      "The Tonight Show Starring Jimmy Fallon:\t\t\t\t 705\n",
      "PewDiePie:\t\t\t\t 652\n",
      "RadaanMedia:\t\t\t\t 651\n",
      "The Late Late Show with James Corden:\t\t\t\t 583\n",
      "CNN:\t\t\t\t 579\n",
      "Netflix:\t\t\t\t 566\n",
      "FBE:\t\t\t\t 555\n",
      "MLG Highlights:\t\t\t\t 549\n",
      "SET India:\t\t\t\t 528\n",
      "Screen Junkies:\t\t\t\t 494\n",
      "ESPN:\t\t\t\t 486\n",
      "Marvel Entertainment:\t\t\t\t 482\n",
      "BuzzFeedVideo:\t\t\t\t 481\n",
      "Warner Bros. Pictures:\t\t\t\t 470\n",
      "\n",
      "\n",
      "tags 的频数统计展示\n",
      "tags:\t\t\t\t frequency\n",
      "[none]:\t\t\t\t 37698\n",
      "шарий|\"шарий блог\"|\"новое видео шарий\"|\"шарий новое\"|\"анатолий шарий\"|\"шарий анатолий\"|\"ifhbq\"|\"видео шария\"|\"толя шарий\":\t\t\t\t 353\n",
      "The Late Show|\"Stephen Colbert\"|\"Colbert\"|\"Late Show\"|\"celebrities\"|\"late night\"|\"talk show\"|\"skits\"|\"bit\"|\"monologue\"|\"The Late Late Show\"|\"Late Late Show\"|\"letterman\"|\"david letterman\"|\"comedian\"|\"impressions\"|\"CBS\"|\"joke\"|\"jokes\"|\"funny\"|\"funny video\"|\"funny videos\"|\"humor\"|\"celebrity\"|\"celeb\"|\"hollywood\"|\"famous\"|\"James Corden\"|\"Corden\"|\"Comedy\":\t\t\t\t 341\n",
      "Vaani rani|\"rani\"|\"Radhika in funny character\"|\"venu aravind\"|\"SunTV\"|\"VaniRani\"|\"vani\"|\"vaani\"|\"Radhika's dual role serial\"|\"Ranimma veetu kuripu\"|\"Radhika as lawyer in serial\"|\"radikaa\"|\"rathika\"|\"Radhika's new\":\t\t\t\t 313\n",
      "flowers tv|\"uppum mulakum\"|\"uppum\"|\"biju sopanam\"|\"Balanchandran\"|\"Neelima\"|\"juhi rustagi\"|\"flower tv comedy\"|\"flower tv malayalam\"|\"balanchandran\"|\"entertainment\"|\"best comedy serial malayalam\"|\"s p sreekumar\"|\"college campus comedy\"|\"marimayam\"|\"sneha sreekumar\"|\"programme\"|\"moosa\"|\"m80 moosa\"|\"funny\"|\"flower tv comedy night\"|\"malayalam comedy\"|\"+uppum mulakum\":\t\t\t\t 299\n",
      "etv Plus|\"etv comedy show\"|\"3 Idiots\"|\"anchor ravi\"|\"Chinnadana Neekosam\"|\"express raja\"|\"hungama\"|\"Kick\"|\"Nandini Vs Nandini\"|\"Pataas\"|\"jabardasth\"|\"extra jabardasth\"|\"naga babu\"|\"roja\"|\"anchor anasuya\"|\"pove pora\"|\"comedy short films\"|\"yadamma raju\"|\"chalaki chanti\"|\"sudigali sudeer\"|\"anchor suma\"|\"comedy show\"|\"anchor sreemukhi\"|\"comedy skits in telugu\"|\"telugu comedy tracks\"|\"racha ravi\"|\"allare allari\"|\"sardaga kasepu\"|\"ejunction\"|\"anchor pradeep\"|\"pataas punches\"|\"anchor vishnupriya\"|\"getup srinu\":\t\t\t\t 252\n",
      "best vines 2018|\"funny vines\"|\"funny videos\"|\"funniest videos 2018\":\t\t\t\t 247\n",
      "James Corden|\"The Late Late Show\"|\"Colbert\"|\"late night\"|\"late night show\"|\"Stephen Colbert\"|\"Comedy\"|\"monologue\"|\"comedian\"|\"impressions\"|\"celebrities\"|\"carpool\"|\"karaoke\"|\"CBS\"|\"Late Late Show\"|\"Corden\"|\"joke\"|\"jokes\"|\"funny\"|\"funny video\"|\"funny videos\"|\"humor\"|\"celebrity\"|\"celeb\"|\"hollywood\"|\"famous\":\t\t\t\t 245\n",
      "etv daily serials|\"etv daily soaps\"|\"etv fictions\"|\"bharyamani\"|\"etv chandramukhi\"|\"etv manasu mamata\"|\"swathi chinukulu\"|\"sikharam\"|\"anthapuram\"|\"adade aadaram\"|\"cash\"|\"jabardasth\"|\"extra jabardasth\"|\"nagababu\"|\"latest telugu serials\"|\"Krish\"|\"savithri\"|\"manasu mamatha\"|\"naperu meenakshi\"|\"gokulamlo seetha\"|\"antahpuram\"|\"seetamma vakitlo\"|\"champion\"|\"dhee jodi\":\t\t\t\t 229\n",
      "Vaani rani|\"rani\"|\"Radhika in funny character\"|\"venu aravind\"|\"SunTV\"|\"VaniRani\"|\"vani\"|\"vaani\"|\"Radhika's dual role serial\"|\"Ranimma veetu kuripu\"|\"Radhika as lawyer in serial\"|\"radikaa\"|\"Radhika's new\":\t\t\t\t 226\n",
      "ABC|\"americanidol\"|\"idol\"|\"american idol\"|\"ryan\"|\"seacrest\"|\"ryan seacrest\"|\"katy\"|\"perry\"|\"katy perry\"|\"luke\"|\"bryan\"|\"luke bryan\"|\"lionel\"|\"richie\"|\"lionel richie\"|\"season 16\"|\"american idol XVI\"|\"television\"|\"ad\"|\"spring\"|\"2018\"|\"music\"|\"reality\"|\"competition\"|\"song\"|\"sing\"|\"audition\"|\"auditions\"|\"performance\"|\"live\"|\"fox\"|\"AI\"|\"hollywood\"|\"contestant\"|\"official\"|\"american\"|\"official american idol\"|\"hollywood week\"|\"hometown audition\":\t\t\t\t 225\n",
      "BIGHIT|\"빅히트\"|\"방탄소년단\"|\"BTS\"|\"BANGTAN\"|\"방탄\":\t\t\t\t 223\n",
      "etv shows|\"eenadu television\"|\"padutha theeyaga\"|\"super2\"|\"dhee Jodi\"|\"jabardasth\"|\"extra jabardsth\"|\"etv20\"|\"etv comedy show\"|\"extra jabardasth\"|\"naga babu\"|\"roja\"|\"anchor anasuya\"|\"rashmi\"|\"dhanraj\"|\"chandra\"|\"chanti\"|\"comedy short films\"|\"raghava\"|\"rocket raghava\"|\"roller raghu\"|\"venu wonders\"|\"comedy skits in telugu\"|\"racha ravi\"|\"adhire abhi\"|\"fata fut fun\"|\"shaking sheshu\"|\"sudigaali\"|\"Rocking rakesh\"|\"Adhire abhi\"|\"kiraak rp\"|\"hyper aadi\"|\"raising raju\"|\"venkey monkeys\"|\"durga rao\":\t\t\t\t 208\n",
      "the real|\"daytime\"|\"talk show\"|\"women\"|\"tamera mowry\"|\"adrienne bailon\"|\"loni love\"|\"jeannie mai\":\t\t\t\t 197\n",
      "The Late Show|\"Late Show\"|\"Stephen Colbert\"|\"Steven Colbert\"|\"Colbert\"|\"celebrity\"|\"celeb\"|\"celebrities\"|\"late night\"|\"talk show\"|\"comedian\"|\"comedy\"|\"CBS\"|\"joke\"|\"jokes\"|\"funny\"|\"funny video\"|\"funny videos\"|\"humor\"|\"hollywood\"|\"famous\":\t\t\t\t 189\n",
      "철구|\"BJ철구\"|\"아프리카철구\"|\"afreecaTV\"|\"아프리카TV\"|\"BJ\"|\"비제이\"|\"인터넷방송\"|\"인터넷방송BJ유머방송\"|\"개그방송\"|\"유머영상\"|\"개그영상\"|\"게임영상\"|\"게임방송\"|\"꿀잼\"|\"웃긴영상\"|\"웃긴방송\":\t\t\t\t 167\n",
      "tarang|\"tarang tv\"|\"tarang tv online\"|\"tarang tv serial\"|\"odia tarang tv serial\"|\"tarang tv show\"|\"taranga channel\"|\"tarang tv channel\"|\"odia tarang channel\"|\"odia serial\"|\"odia serial video\"|\"odia channel\"|\"odia tv channel\"|\"odia tv show\"|\"odia tv\":\t\t\t\t 163\n",
      "Trailer|\"Deadpool\"|\"20th Century Fox (Production Company)\"|\"Deadpool Movie\"|\"Ryan Reynolds (Celebrity)\"|\"Ed Skrein (Musical Artist)\"|\"T. J. Miller (TV Writer)\"|\"Gina Carano (Martial Artist)\"|\"Red band\"|\"Red band deadpool\"|\"Marvel\"|\"Marvel Comics\"|\"Comic Book (Comic Book Genre)\"|\"Dead pool\"|\"Deadpool green band\"|\"Deadpool red band\"|\"Action\"|\"Comedy\"|\"Action Comedy\"|\"X-Men (Award-Winning Work)\"|\"deadpool movie\"|\"deadpool sequel\"|\"deadpool 2\"|\"2nd deadpool movie\":\t\t\t\t 158\n",
      "Sri Lanka|\"Sinhala\"|\"TV Derana\"|\"Derana\"|\"DTV\"|\"Lanka\"|\"Premium\"|\"Entertainment\"|\"Deweni Inima\"|\"Dewana Inima\"|\"Deveni Inima\"|\"Devana Inima\"|\"Cricket\"|\"Sri Lanka Cricket\"|\"Cricket Match\"|\"Dawana Inima\"|\"Deweni Enima\"|\"Deveni Enima\"|\"Deweni\"|\"02nd Innings\"|\"Innings\"|\"Second Inning\"|\"Cricket Team\"|\"Saranga Mendis\"|\"Janaka Siriwardana\"|\"Saman Edirimuni\"|\"Best Teledrama\"|\"Sri Lankan Teledrama\"|\"Top Teledrama\"|\"Sri Lanka's Best\"|\"Play Cricket\"|\"Love\"|\"Romantic\"|\"School\"|\"School Love\"|\"Adventure\"|\"Fight\":\t\t\t\t 157\n",
      "след:\t\t\t\t 155\n"
     ]
    }
   ],
   "source": [
    "## 2. Trending YouTube Video Statistics 的相关频数\n",
    "# 2.1 channel_title\n",
    "channel_title = {k: v for k, v in sorted(freq(ytb_data.channel_title).items(),key=lambda item: item[1], reverse=True)}\n",
    "pairs = {k: channel_title[k] for k in list(channel_title)[:20]}\n",
    "print(\"\\n\\nchannel_title 的频数统计展示\\nchannel_title:\\t\\t\\t\\t frequency\")\n",
    "for c, f in pairs.items():\n",
    "    print(\"%s:\\t\\t\\t\\t %i\" % (c, f))\n",
    "    \n",
    "# 2.2 tags\n",
    "tags = {k: v for k, v in sorted(freq(ytb_data.tags).items(),key=lambda item: item[1], reverse=True)}\n",
    "pairs = {k: tags[k] for k in list(tags)[:20]}\n",
    "print(\"\\n\\ntags 的频数统计展示\\ntags:\\t\\t\\t\\t frequency\")\n",
    "for c, f in pairs.items():\n",
    "    print(\"%s:\\t\\t\\t\\t %i\" % (c, f))"
   ]
  },
  {
   "cell_type": "code",
   "execution_count": 48,
   "metadata": {},
   "outputs": [
    {
     "name": "stdout",
     "output_type": "stream",
     "text": [
      "points 五数概括\n",
      "最小值：\t80\n",
      "q1：\t86\n",
      "中位数：\t88\n",
      "q3：\t90\n",
      "最大值：\t100\n",
      "points 缺失值个数：0\n",
      "\n",
      "\n",
      "price 五数概括\n",
      "最小值：\t4\n",
      "q1：\t16\n",
      "中位数：\t25\n",
      "q3：\t40\n",
      "最大值：\t3300\n",
      "price 缺失值个数：22691\n"
     ]
    }
   ],
   "source": [
    "# 5 数概括\n",
    "def nums(nums):\n",
    "    # 排序\n",
    "    sorted_nums = sorted(nums)\n",
    "    # 平均数\n",
    "    mean = np.mean(sorted_nums)\n",
    "    # 最小值\n",
    "    minimum = sorted_nums[0]\n",
    "    # 最大值\n",
    "    maximum = sorted_nums[-1]\n",
    "    # 分位数\n",
    "    q1, median, q3 = np.percentile(sorted_nums, [25, 50, 75])\n",
    "    # 中位数\n",
    "    median = np.median(sorted_nums)\n",
    "    # 众数\n",
    "    mode = stats.mode(sorted_nums)[0][0]\n",
    "    variance = np.var(sorted_nums)\n",
    "    return len(nums), minimum, maximum, mean, variance, mode, median, q1, q3\n",
    "\n",
    "## 1. Wine Reviews 的相关概括\n",
    "# 1.1 points\n",
    "n11, n12, n13, n14, n15, n16, n17, n18, n19 = nums(np.array(wine_data.points.dropna()))\n",
    "print(\"points 五数概括\")\n",
    "print('最小值：\\t%g' % n12)\n",
    "print('q1：\\t%g' % n18)\n",
    "print('中位数：\\t%g' % n17)\n",
    "print('q3：\\t%g' % n19)\n",
    "print('最大值：\\t%g' % n13)\n",
    "print(\"points 缺失值个数：%g\" % wine_data.points.isna().sum())\n",
    "\n",
    "# 1.2 price\n",
    "n21, n22, n23, n24, n25, n26, n27, n28, n29 = nums(np.array(wine_data.price.dropna()))\n",
    "print(\"\\n\\nprice 五数概括\")\n",
    "print('最小值：\\t%g' % n22)\n",
    "print('q1：\\t%g' % n28)\n",
    "print('中位数：\\t%g' % n27)\n",
    "print('q3：\\t%g' % n29)\n",
    "print('最大值：\\t%g' % n23)\n",
    "print(\"price 缺失值个数：%g\" % wine_data.price.isna().sum())"
   ]
  },
  {
   "cell_type": "code",
   "execution_count": 52,
   "metadata": {},
   "outputs": [
    {
     "name": "stdout",
     "output_type": "stream",
     "text": [
      "views 五数概括\n",
      "最小值：\t117\n",
      "q1：\t46978\n",
      "中位数：\t177370\n",
      "q3：\t647679\n",
      "最大值：\t4.24539e+08\n",
      "views 缺失值个数：0\n",
      "\n",
      "\n",
      "dislikes 五数概括\n",
      "最小值：\t0\n",
      "q1：\t41\n",
      "中位数：\t179\n",
      "q3：\t749\n",
      "最大值：\t1.94497e+06\n",
      "dislikes 缺失值个数：0\n"
     ]
    }
   ],
   "source": [
    "## 2. Trending YouTube Video Statistics 的相关概括\n",
    "# 2.1 views\n",
    "n31, n32, n33, n34, n35, n36, n37, n38, n39 = nums(np.array(ytb_data.views.dropna()))\n",
    "print(\"views 五数概括\")\n",
    "print('最小值：\\t%g' % n32)\n",
    "print('q1：\\t%g' % n38)\n",
    "print('中位数：\\t%g' % n37)\n",
    "print('q3：\\t%g' % n39)\n",
    "print('最大值：\\t%g' % n33)\n",
    "print(\"views 缺失值个数：%g\" % ytb_data.views.isna().sum())\n",
    "\n",
    "# 2.2 dislikes\n",
    "n41, n42, n43, n44, n45, n46, n47, n48, n49 = nums(np.array(ytb_data.dislikes.dropna()))\n",
    "print(\"\\n\\ndislikes 五数概括\")\n",
    "print('最小值：\\t%g' % n42)\n",
    "print('q1：\\t%g' % n48)\n",
    "print('中位数：\\t%g' % n47)\n",
    "print('q3：\\t%g' % n49)\n",
    "print('最大值：\\t%g' % n43)\n",
    "print(\"dislikes 缺失值个数：%g\" % ytb_data.dislikes.isna().sum())"
   ]
  },
  {
   "cell_type": "markdown",
   "metadata": {},
   "source": [
    "### 1.2 数据可视化"
   ]
  },
  {
   "cell_type": "code",
   "execution_count": 55,
   "metadata": {},
   "outputs": [
    {
     "data": {
      "text/plain": [
       "<matplotlib.axes._subplots.AxesSubplot at 0x141dcd490>"
      ]
     },
     "execution_count": 55,
     "metadata": {},
     "output_type": "execute_result"
    },
    {
     "data": {
      "image/png": "[encoded data removed]",
      "text/plain": [
       "<Figure size 432x288 with 1 Axes>"
      ]
     },
     "metadata": {
      "needs_background": "light"
     },
     "output_type": "display_data"
    }
   ],
   "source": [
    "## 1. Wine Reviews 的相关数据可视化\n",
    "\n",
    "# 1.1 直方图\n",
    "# 1.1.1 points\n",
    "wine_data.points.dropna().plot.hist(bins = 20, title = 'Wine Reviews-points 直方图')"
   ]
  },
  {
   "cell_type": "code",
   "execution_count": 56,
   "metadata": {},
   "outputs": [
    {
     "data": {
      "text/plain": [
       "<matplotlib.axes._subplots.AxesSubplot at 0x14306f610>"
      ]
     },
     "execution_count": 56,
     "metadata": {},
     "output_type": "execute_result"
    },
    {
     "data": {
      "image/png": "[encoded data removed]",
      "text/plain": [
       "<Figure size 432x288 with 1 Axes>"
      ]
     },
     "metadata": {
      "needs_background": "light"
     },
     "output_type": "display_data"
    }
   ],
   "source": [
    "# 1.1.2 price\n",
    "wine_data.price.dropna().plot.hist(bins = 20, title = 'Wine Reviews-price 直方图')"
   ]
  },
  {
   "cell_type": "code",
   "execution_count": 59,
   "metadata": {},
   "outputs": [
    {
     "data": {
      "text/plain": [
       "<matplotlib.axes._subplots.AxesSubplot at 0x140335250>"
      ]
     },
     "execution_count": 59,
     "metadata": {},
     "output_type": "execute_result"
    },
    {
     "name": "stderr",
     "output_type": "stream",
     "text": [
      "/usr/local/lib/python3.7/site-packages/matplotlib/backends/backend_agg.py:214: RuntimeWarning: Glyph 30418 missing from current font.\n",
      "  font.set_text(s, 0.0, flags=flags)\n",
      "/usr/local/lib/python3.7/site-packages/matplotlib/backends/backend_agg.py:214: RuntimeWarning: Glyph 22270 missing from current font.\n",
      "  font.set_text(s, 0.0, flags=flags)\n",
      "/usr/local/lib/python3.7/site-packages/matplotlib/backends/backend_agg.py:183: RuntimeWarning: Glyph 30418 missing from current font.\n",
      "  font.set_text(s, 0, flags=flags)\n",
      "/usr/local/lib/python3.7/site-packages/matplotlib/backends/backend_agg.py:183: RuntimeWarning: Glyph 22270 missing from current font.\n",
      "  font.set_text(s, 0, flags=flags)\n"
     ]
    },
    {
     "data": {
      "image/png": "[encoded data removed]",
      "text/plain": [
       "<Figure size 432x288 with 1 Axes>"
      ]
     },
     "metadata": {
      "needs_background": "light"
     },
     "output_type": "display_data"
    }
   ],
   "source": [
    "# 1.2 盒图\n",
    "# 1.2.1 points\n",
    "wine_data.points.dropna().plot.box(title = 'Wine Reviews-points 盒图')"
   ]
  },
  {
   "cell_type": "code",
   "execution_count": 60,
   "metadata": {},
   "outputs": [
    {
     "data": {
      "text/plain": [
       "<matplotlib.axes._subplots.AxesSubplot at 0x12fa736d0>"
      ]
     },
     "execution_count": 60,
     "metadata": {},
     "output_type": "execute_result"
    },
    {
     "name": "stderr",
     "output_type": "stream",
     "text": [
      "/usr/local/lib/python3.7/site-packages/matplotlib/backends/backend_agg.py:214: RuntimeWarning: Glyph 30418 missing from current font.\n",
      "  font.set_text(s, 0.0, flags=flags)\n",
      "/usr/local/lib/python3.7/site-packages/matplotlib/backends/backend_agg.py:214: RuntimeWarning: Glyph 22270 missing from current font.\n",
      "  font.set_text(s, 0.0, flags=flags)\n",
      "/usr/local/lib/python3.7/site-packages/matplotlib/backends/backend_agg.py:183: RuntimeWarning: Glyph 30418 missing from current font.\n",
      "  font.set_text(s, 0, flags=flags)\n",
      "/usr/local/lib/python3.7/site-packages/matplotlib/backends/backend_agg.py:183: RuntimeWarning: Glyph 22270 missing from current font.\n",
      "  font.set_text(s, 0, flags=flags)\n"
     ]
    },
    {
     "data": {
      "image/png": "[encoded data removed]",
      "text/plain": [
       "<Figure size 432x288 with 1 Axes>"
      ]
     },
     "metadata": {
      "needs_background": "light"
     },
     "output_type": "display_data"
    }
   ],
   "source": [
    "# 1.2.2 price\n",
    "wine_data.price.dropna().plot.box(title = 'Wine Reviews-price 盒图')"
   ]
  },
  {
   "cell_type": "code",
   "execution_count": 61,
   "metadata": {},
   "outputs": [
    {
     "data": {
      "text/plain": [
       "<matplotlib.axes._subplots.AxesSubplot at 0x1404860d0>"
      ]
     },
     "execution_count": 61,
     "metadata": {},
     "output_type": "execute_result"
    },
    {
     "name": "stderr",
     "output_type": "stream",
     "text": [
      "/usr/local/lib/python3.7/site-packages/matplotlib/backends/backend_agg.py:214: RuntimeWarning: Glyph 30452 missing from current font.\n",
      "  font.set_text(s, 0.0, flags=flags)\n",
      "/usr/local/lib/python3.7/site-packages/matplotlib/backends/backend_agg.py:214: RuntimeWarning: Glyph 26041 missing from current font.\n",
      "  font.set_text(s, 0.0, flags=flags)\n",
      "/usr/local/lib/python3.7/site-packages/matplotlib/backends/backend_agg.py:183: RuntimeWarning: Glyph 30452 missing from current font.\n",
      "  font.set_text(s, 0, flags=flags)\n",
      "/usr/local/lib/python3.7/site-packages/matplotlib/backends/backend_agg.py:183: RuntimeWarning: Glyph 26041 missing from current font.\n",
      "  font.set_text(s, 0, flags=flags)\n"
     ]
    },
    {
     "data": {
      "image/png": "[encoded data removed]",
      "text/plain": [
       "<Figure size 432x288 with 1 Axes>"
      ]
     },
     "metadata": {
      "needs_background": "light"
     },
     "output_type": "display_data"
    }
   ],
   "source": [
    "## 2. Trending YouTube Video Statistics 的相关数据可视化\n",
    "\n",
    "# 2.1 直方图\n",
    "# 2.1.1 views\n",
    "ytb_data.views.dropna().plot.hist(bins = 20, title = 'Youtube-views 直方图')"
   ]
  },
  {
   "cell_type": "code",
   "execution_count": 62,
   "metadata": {},
   "outputs": [
    {
     "data": {
      "text/plain": [
       "<matplotlib.axes._subplots.AxesSubplot at 0x1404caed0>"
      ]
     },
     "execution_count": 62,
     "metadata": {},
     "output_type": "execute_result"
    },
    {
     "data": {
      "image/png": "[encoded data removed]",
      "text/plain": [
       "<Figure size 432x288 with 1 Axes>"
      ]
     },
     "metadata": {
      "needs_background": "light"
     },
     "output_type": "display_data"
    }
   ],
   "source": [
    "# 2.1.2 likes\n",
    "ytb_data.likes.dropna().plot.hist(bins = 20, title = 'Youtube-likes 直方图')"
   ]
  },
  {
   "cell_type": "code",
   "execution_count": 63,
   "metadata": {},
   "outputs": [
    {
     "data": {
      "text/plain": [
       "<matplotlib.axes._subplots.AxesSubplot at 0x140635950>"
      ]
     },
     "execution_count": 63,
     "metadata": {},
     "output_type": "execute_result"
    },
    {
     "name": "stderr",
     "output_type": "stream",
     "text": [
      "/usr/local/lib/python3.7/site-packages/matplotlib/backends/backend_agg.py:214: RuntimeWarning: Glyph 30418 missing from current font.\n",
      "  font.set_text(s, 0.0, flags=flags)\n",
      "/usr/local/lib/python3.7/site-packages/matplotlib/backends/backend_agg.py:214: RuntimeWarning: Glyph 22270 missing from current font.\n",
      "  font.set_text(s, 0.0, flags=flags)\n",
      "/usr/local/lib/python3.7/site-packages/matplotlib/backends/backend_agg.py:183: RuntimeWarning: Glyph 30418 missing from current font.\n",
      "  font.set_text(s, 0, flags=flags)\n",
      "/usr/local/lib/python3.7/site-packages/matplotlib/backends/backend_agg.py:183: RuntimeWarning: Glyph 22270 missing from current font.\n",
      "  font.set_text(s, 0, flags=flags)\n"
     ]
    },
    {
     "data": {
      "image/png": "[encoded data removed]",
      "text/plain": [
       "<Figure size 432x288 with 1 Axes>"
      ]
     },
     "metadata": {
      "needs_background": "light"
     },
     "output_type": "display_data"
    }
   ],
   "source": [
    "# 2.2 盒图\n",
    "# 2.2.1 views\n",
    "ytb_data.views.dropna().plot.box(title = 'Youtube-views 盒图')"
   ]
  },
  {
   "cell_type": "code",
   "execution_count": 64,
   "metadata": {},
   "outputs": [
    {
     "data": {
      "text/plain": [
       "<matplotlib.axes._subplots.AxesSubplot at 0x14065b190>"
      ]
     },
     "execution_count": 64,
     "metadata": {},
     "output_type": "execute_result"
    },
    {
     "name": "stderr",
     "output_type": "stream",
     "text": [
      "/usr/local/lib/python3.7/site-packages/matplotlib/backends/backend_agg.py:214: RuntimeWarning: Glyph 30418 missing from current font.\n",
      "  font.set_text(s, 0.0, flags=flags)\n",
      "/usr/local/lib/python3.7/site-packages/matplotlib/backends/backend_agg.py:214: RuntimeWarning: Glyph 22270 missing from current font.\n",
      "  font.set_text(s, 0.0, flags=flags)\n",
      "/usr/local/lib/python3.7/site-packages/matplotlib/backends/backend_agg.py:183: RuntimeWarning: Glyph 30418 missing from current font.\n",
      "  font.set_text(s, 0, flags=flags)\n",
      "/usr/local/lib/python3.7/site-packages/matplotlib/backends/backend_agg.py:183: RuntimeWarning: Glyph 22270 missing from current font.\n",
      "  font.set_text(s, 0, flags=flags)\n"
     ]
    },
    {
     "data": {
      "image/png": "[encoded data removed]",
      "text/plain": [
       "<Figure size 432x288 with 1 Axes>"
      ]
     },
     "metadata": {
      "needs_background": "light"
     },
     "output_type": "display_data"
    }
   ],
   "source": [
    "# 2.2.1 likes\n",
    "ytb_data.likes.dropna().plot.box(title = 'Youtube-likes 盒图')"
   ]
  },
  {
   "cell_type": "markdown",
   "metadata": {},
   "source": [
    "## 2. 数据缺失处理\n",
    "### 2.1 填充值计算"
   ]
  },
  {
   "cell_type": "code",
   "execution_count": 67,
   "metadata": {},
   "outputs": [
    {
     "name": "stdout",
     "output_type": "stream",
     "text": [
      "price 众数个数：1，值为 20。\n",
      "points 众数个数：1，值为 87。\n"
     ]
    }
   ],
   "source": [
    "# 1. Wine Reviews 相关计算\n",
    "price_mode = stats.mode(wine_data.price.dropna())\n",
    "points_mode = stats.mode(wine_data.points.dropna())\n",
    "print('price 众数个数：%i，值为 %g。' % (len(price_mode[0]), n26))\n",
    "print('points 众数个数：%i，值为 %g。' % (len(points_mode[0]), n16))"
   ]
  },
  {
   "cell_type": "code",
   "execution_count": 69,
   "metadata": {},
   "outputs": [
    {
     "name": "stdout",
     "output_type": "stream",
     "text": [
      "points 与 price 的余弦相似度：0.674102。\n",
      "points 与 price 的 Pearson 相关系数：0.437456。\n"
     ]
    }
   ],
   "source": [
    "# 相似性计算\n",
    "def similarity(v1, v2):\n",
    "    dot_product = np.dot(v1, v2)\n",
    "    vec_1_norm = np.linalg.norm(v1)\n",
    "    vec_2_norm = np.linalg.norm(v2)\n",
    "    return dot_product / (vec_1_norm * vec_2_norm)\n",
    "\n",
    "cosine_price = similarity(wine_data[['points', 'price']].dropna().points, wine_data[['points', 'price']].dropna().price)\n",
    "pearson_price = wine_data[['points', 'price']].dropna().corr().points.price\n",
    "print('points 与 price 的余弦相似度：%g。' % cosine_price)\n",
    "print('points 与 price 的 Pearson 相关系数：%g。' % pearson_price)"
   ]
  },
  {
   "cell_type": "code",
   "execution_count": 71,
   "metadata": {},
   "outputs": [
    {
     "name": "stdout",
     "output_type": "stream",
     "text": [
      "views 众数个数：1，值为 3680。\n",
      "likes 众数个数：1，值为 0。\n",
      "views 与 dislikes 的余弦相似度：0.42993。\n",
      "views 与 dislikes 的 Pearson 相关系数：0.421653。\n"
     ]
    }
   ],
   "source": [
    "## 2. Trending YouTube Video Statistics 相关计算\n",
    "views_mode = stats.mode(ytb_data.views.dropna())\n",
    "dislikes_mode = stats.mode(ytb_data.dislikes.dropna())\n",
    "print('views 众数个数：%i，值为 %g。' % (len(views_mode[0]), n36))\n",
    "print('likes 众数个数：%i，值为 %g。' % (len(dislikes_mode[0]), n46))\n",
    "\n",
    "# 相似性计算\n",
    "cosine_price = similarity(ytb_data[['views', 'dislikes']].dropna().views, ytb_data[['views', 'dislikes']].dropna().dislikes)\n",
    "pearson_price = ytb_data[['views', 'dislikes']].dropna().corr().views.dislikes\n",
    "print('views 与 dislikes 的余弦相似度：%g。' % cosine_price)\n",
    "print('views 与 dislikes 的 Pearson 相关系数：%g。' % pearson_price)"
   ]
  }
 ],
 "metadata": {
  "kernelspec": {
   "display_name": "Python 3",
   "language": "python",
   "name": "python3"
  },
  "language_info": {
   "codemirror_mode": {
    "name": "ipython",
    "version": 3
   },
   "file_extension": ".py",
   "mimetype": "text/x-python",
   "name": "python",
   "nbconvert_exporter": "python",
   "pygments_lexer": "ipython3",
   "version": "3.7.6"
  }
 },
 "nbformat": 4,
 "nbformat_minor": 4
}
